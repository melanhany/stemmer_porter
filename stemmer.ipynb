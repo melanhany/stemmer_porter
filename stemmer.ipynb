{
 "cells": [
  {
   "cell_type": "code",
   "execution_count": 21,
   "metadata": {},
   "outputs": [],
   "source": [
    "from nltk.stem.snowball import SnowballStemmer\n",
    "import re"
   ]
  },
  {
   "cell_type": "code",
   "execution_count": 22,
   "metadata": {},
   "outputs": [],
   "source": [
    "stemmer = SnowballStemmer(\"russian\")"
   ]
  },
  {
   "cell_type": "code",
   "execution_count": 23,
   "metadata": {
    "scrolled": true
   },
   "outputs": [
    {
     "data": {
      "text/plain": [
       "['васил', 'геннад', 'витал', 'ручк', 'карандаш', 'дан', '']"
      ]
     },
     "execution_count": 23,
     "metadata": {},
     "output_type": "execute_result"
    }
   ],
   "source": [
    "my_words = ['Василий', 'Геннадий', 'Виталий', 'ручка', 'карандаш', 'Данил', '']\n",
    "l=[stemmer.stem(word) for word in my_words]\n",
    "l"
   ]
  },
  {
   "cell_type": "code",
   "execution_count": 19,
   "metadata": {},
   "outputs": [],
   "source": [
    "word = 'рпкгст'\n",
    "m = re.match(RVRE, word)\n",
    "m.group(2)"
   ]
  },
  {
   "cell_type": "code",
   "execution_count": 4,
   "metadata": {},
   "outputs": [],
   "source": [
    "    #re.compile - паттерн нахождения нужных групп\n",
    "    PERFECTIVEGERUND =  re.compile(u\"((ив|ивши|ившись|ыв|ывши|ывшись)|((?<=[ая])(в|вши|вшись)))$\") \n",
    "    ADJECTIVE = re.compile(u\"(ее|ие|ые|ое|ими|ыми|ей|ий|ый|ой|ем|им|ым|ом|его|ого|ему|ому|их|ых|ую|юю|ая|яя|ою|ею)$\")\n",
    "    PARTICIPLE = re.compile(u\"((ивш|ывш|ующ)|((?<=[ая])(ем|нн|вш|ющ|щ)))$\")\n",
    "    REFLEXIVE = re.compile(u\"(с[яь])$\")\n",
    "    VERB = re.compile(u\"((ила|ыла|ена|ейте|уйте|ите|или|ыли|ей|уй|ил|ыл|им|ым|ен|ило|ыло|ено|ят|ует|уют|ит|ыт|ены|ить|ыть|ишь|ую|ю)|((?<=[ая])(ла|на|ете|йте|ли|й|л|ем|н|ло|но|ет|ют|ны|ть|ешь|нно)))$\")\n",
    "    NOUN = re.compile(u\"(а|ев|ов|ие|ье|е|иями|ями|ами|еи|ии|и|ией|ей|ой|ий|й|иям|ям|ием|ем|ам|ом|о|у|ах|иях|ях|ы|ь|ию|ью|ю|ия|ья|я)$\")\n",
    "    SUPERLATIVE = re.compile(u\"(ейше|ейш)$\")\n",
    "    DERIVATIONAL = re.compile(u\".*[^аеиоуыэюя]+[аеиоуыэюя].*ость?$\") #Match words that doesn't start with letters from first list connecting with next list and ending with ость\n",
    "    RVRE = re.compile(u\"^(.*?[аеиоуыэюя])(.*)$\") #Match a first character present in the list\n",
    "    DER = re.compile(u\"ость?$\")\n",
    "    I = re.compile(u\"и$\")\n",
    "    P = re.compile(u\"ь$\")\n",
    "    NN = re.compile(u\"нн$\")"
   ]
  },
  {
   "cell_type": "code",
   "execution_count": 72,
   "metadata": {},
   "outputs": [],
   "source": [
    "    def stem(word):\n",
    "        word = word.lower()\n",
    "        word = word.replace(u'ё', u'е')\n",
    "        m = re.match(RVRE, word) # находит паттерн первой попавшейся гласной буквы\n",
    "\n",
    "        if m and m.groups():\n",
    "            pre = m.group(1) #часть слова до согласной буквы после первой гласной буквы\n",
    "            rv = m.group(2) #часть слова после первой гласной буквы\n",
    "            temp = PERFECTIVEGERUND.sub('', rv, 1) #удаляем окончания PerfectiveGround и присваивает temp-у\n",
    "            if temp == rv: # окончание Perfective Gerund не найден\n",
    "                rv = REFLEXIVE.sub('', rv, 1) #удаляем окончание REFLEXIVE (если оно существует)\n",
    "                temp = ADJECTIVE.sub('', rv, 1) #в следующем порядке пробуем удалить окончания: ADJECTIVAL, VERB, NOUN\n",
    "                if temp != rv:\n",
    "                    rv = temp\n",
    "                    rv = PARTICIPLE.sub('', rv, 1)\n",
    "                else:\n",
    "                    temp = VERB.sub('', rv, 1)\n",
    "                    if temp == rv:\n",
    "                        rv = NOUN.sub('', rv, 1)\n",
    "                    else:\n",
    "                        rv = temp\n",
    "            else: # окончание Perfective Gerund найден и удален\n",
    "                rv = temp\n",
    "\n",
    "            rv = I.sub('', rv, 1) # если слово оканчивается на и удаляем и\n",
    "\n",
    "            if re.match(DERIVATIONAL, rv): #если в R2 найдется окончание DERIVATIONAL — удаляем его.\n",
    "                rv = DER.sub('', rv, 1)\n",
    "\n",
    "            temp = P.sub('', rv, 1) #если слово оканчивается на ь — удаляем его\n",
    "            if temp == rv:\n",
    "                rv = SUPERLATIVE.sub('', rv, 1) #если слово оканчивается на SUPERLATIVE — удаляем его и снова удаляем последнюю букву, если слово оканчивается на нн\n",
    "                rv = NN.sub(u'н', rv, 1) #если слово оканчивается на нн — удаляем последнюю букву.\n",
    "            else:\n",
    "                rv = temp\n",
    "            word = pre+rv # части слова до гласной и измененное\n",
    "        return word"
   ]
  },
  {
   "cell_type": "code",
   "execution_count": 71,
   "metadata": {},
   "outputs": [
    {
     "name": "stdout",
     "output_type": "stream",
     "text": [
      "сстворившись сствор\n",
      "сстворивши сстворивши\n"
     ]
    }
   ],
   "source": [
    "word = 'расстворившись'\n",
    "m = re.match(Porter.RVRE, word)\n",
    "rv = m.group(2)\n",
    "temp = PERFECTIVEGROUND.sub('', rv, 1)\n",
    "print(rv, temp)\n",
    "rv = REFLEXIVE.sub('', rv, 1) #удаляем окончание REFLEXIVE (если оно существует)\n",
    "temp = ADJECTIVE.sub('', rv, 1)\n",
    "print(rv, temp)"
   ]
  },
  {
   "cell_type": "code",
   "execution_count": 77,
   "metadata": {},
   "outputs": [
    {
     "name": "stdout",
     "output_type": "stream",
     "text": [
      "знаменами\n",
      "знамен\n"
     ]
    }
   ],
   "source": [
    "word = input()\n",
    "print(stem(word))"
   ]
  }
 ],
 "metadata": {
  "kernelspec": {
   "display_name": "Python 3",
   "language": "python",
   "name": "python3"
  },
  "language_info": {
   "codemirror_mode": {
    "name": "ipython",
    "version": 3
   },
   "file_extension": ".py",
   "mimetype": "text/x-python",
   "name": "python",
   "nbconvert_exporter": "python",
   "pygments_lexer": "ipython3",
   "version": "3.7.1"
  }
 },
 "nbformat": 4,
 "nbformat_minor": 2
}
